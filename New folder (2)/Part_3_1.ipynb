{
 "cells": [
  {
   "cell_type": "markdown",
   "metadata": {},
   "source": [
    "# EE 596 Mini Project\n",
    "Weerasingha W.K.H.M (E/18/383)"
   ]
  },
  {
   "cell_type": "code",
   "execution_count": 97,
   "metadata": {},
   "outputs": [],
   "source": [
    "# Import the libraries\n",
    "import cv2\n",
    "import numpy as np \n",
    "import matplotlib.pyplot as plt\n",
    "import os\n",
    "import huffman\n",
    "import shutil"
   ]
  },
  {
   "cell_type": "markdown",
   "metadata": {},
   "source": [
    "# Encode the Video"
   ]
  },
  {
   "cell_type": "markdown",
   "metadata": {},
   "source": [
    "Read the video"
   ]
  },
  {
   "cell_type": "code",
   "execution_count": 98,
   "metadata": {},
   "outputs": [],
   "source": [
    "# Organize the directory paths\n",
    "path = os.getcwd()\n",
    "Original_Frames_path = os.path.join(path, \"Original_Frames\")\n",
    "Residual_Frames_path = os.path.join(path, \"Residual_Frames\")\n",
    "Encoded_files_path = os.path.join(path, \"Encoded_files\")\n",
    "Decode_frames_path = os.path.join(path, \"Decode_frames\")"
   ]
  },
  {
   "cell_type": "code",
   "execution_count": 99,
   "metadata": {},
   "outputs": [],
   "source": [
    "# Establish the file paths\n",
    "try:\n",
    "    os.mkdir(Original_Frames_path)\n",
    "    os.mkdir(Residual_Frames_path)\n",
    "    os.mkdir(Encoded_files_path)\n",
    "    os.mkdir(Decode_frames_path)\n",
    "except:\n",
    "    shutil.rmtree(Original_Frames_path)\n",
    "    shutil.rmtree(Residual_Frames_path)\n",
    "    shutil.rmtree(Encoded_files_path)\n",
    "    shutil.rmtree(Decode_frames_path)\n",
    "    os.mkdir(Original_Frames_path)\n",
    "    os.mkdir(Residual_Frames_path)\n",
    "    os.mkdir(Encoded_files_path)\n",
    "    os.mkdir(Decode_frames_path)\n"
   ]
  },
  {
   "cell_type": "code",
   "execution_count": 100,
   "metadata": {},
   "outputs": [],
   "source": [
    "# Store the frames and give limitaion for frame count\n",
    "video_frames = []\n",
    "frame_Count = 10"
   ]
  },
  {
   "cell_type": "code",
   "execution_count": 101,
   "metadata": {},
   "outputs": [],
   "source": [
    "# Get  frames one by one from the video\n",
    "vidcap = cv2.VideoCapture('Original_Image.mp4')\n",
    "fps = vidcap.get(cv2.CAP_PROP_FPS)\n",
    "success,image = vidcap.read()\n",
    "count = 0\n",
    "# while success:\n",
    "while count<frame_Count:\n",
    "  cv2.imwrite(os.path.join(Original_Frames_path, \"frame%d.jpg\" % count), image)     # save colured frames as JPEG file\n",
    "  video_frames.append(cv2.cvtColor(image, cv2.COLOR_BGR2GRAY)) # Convert to gray image\n",
    "  success,image = vidcap.read()\n",
    "  count += 1"
   ]
  },
  {
   "cell_type": "code",
   "execution_count": 102,
   "metadata": {},
   "outputs": [],
   "source": [
    "# User defined for user purpose\n",
    "# frame_Count = count"
   ]
  },
  {
   "cell_type": "code",
   "execution_count": 103,
   "metadata": {},
   "outputs": [
    {
     "name": "stdout",
     "output_type": "stream",
     "text": [
      "Frame counts :  10\n"
     ]
    }
   ],
   "source": [
    "# Print necessary details of frames\n",
    "print(\"Frame counts : \", len(video_frames))"
   ]
  },
  {
   "cell_type": "markdown",
   "metadata": {},
   "source": [
    "Resize the frames to fit 8x8 macroblocks"
   ]
  },
  {
   "cell_type": "code",
   "execution_count": 104,
   "metadata": {},
   "outputs": [],
   "source": [
    "# Get the height and width of the original image\n",
    "height, width = video_frames[0].shape\n",
    "\n",
    "# calculate the counts of the 8x8 macroblocks\n",
    "block_size = 8\n",
    "height_blocks = height // block_size\n",
    "width_blocks = width // block_size\n",
    "\n",
    "# Calculate new image dimensions\n",
    "new_height = height_blocks * 8\n",
    "new_width = width_blocks * 8\n"
   ]
  },
  {
   "cell_type": "code",
   "execution_count": 105,
   "metadata": {},
   "outputs": [],
   "source": [
    "# Updated the frame array using resized frames\n",
    "count = 0\n",
    "for frame in video_frames:\n",
    "    video_frames[count] = cv2.resize(frame, (new_width, new_height))\n",
    "    count+=1"
   ]
  },
  {
   "cell_type": "markdown",
   "metadata": {},
   "source": [
    "# Find residuals"
   ]
  },
  {
   "cell_type": "code",
   "execution_count": 106,
   "metadata": {},
   "outputs": [],
   "source": [
    "# Function to calculate the sum of squared differences between two blocks\n",
    "def block_matching_error(block1, block2):\n",
    "    # return np.sum((block1 - block2) ** 2)\n",
    "    return np.sum(np.abs(block1 - block2))"
   ]
  },
  {
   "cell_type": "code",
   "execution_count": 107,
   "metadata": {},
   "outputs": [],
   "source": [
    "# Function for Logarithmic Search motion estimation\n",
    "def logarithmic_search(i_frame, p_frame, block_size):\n",
    "    height, width = i_frame.shape[:2]\n",
    "    \n",
    "    # Initialize matrix to store motion vectors\n",
    "    motion_vectors = np.zeros((height // block_size, width // block_size, 2), dtype=np.int32)\n",
    "   \n",
    "    # Loop through each block in the target frame\n",
    "    for y in range(0, height, block_size):\n",
    "        for x in range(0, width, block_size):\n",
    "            target_block = p_frame[y:y+block_size, x:x+block_size]\n",
    "            best_match_error = float('inf')\n",
    "            best_match_vector = (0, 0)\n",
    "            \n",
    "            # Iterate through candidate motion vectors in a logarithmic pattern\n",
    "            for dy in [-3, 0, 3]:\n",
    "                for dx in [-3, 0, 3]:\n",
    "                    ny, nx = y + dy, x + dx\n",
    "                    if 0 <= ny < height - block_size + 1 and 0 <= nx < width - block_size + 1:\n",
    "                        reference_block = i_frame[ny:ny+block_size, nx:nx+block_size]\n",
    "                        error = block_matching_error(target_block, reference_block)\n",
    "                        \n",
    "                        # Update if the current candidate is a better match\n",
    "                        if error < best_match_error:\n",
    "                            best_match_error = error\n",
    "                            best_match_vector = (dy, dx)\n",
    "            \n",
    "            # Update the motion vector matrix\n",
    "            motion_vectors[y // block_size, x // block_size] = best_match_vector\n",
    "    \n",
    "    return motion_vectors"
   ]
  },
  {
   "cell_type": "code",
   "execution_count": 108,
   "metadata": {},
   "outputs": [],
   "source": [
    "# Function to calculate the residual image\n",
    "def calculate_residual(i_frame, p_frame, motion_vectors, block_size):\n",
    "    height, width = i_frame.shape[:2]\n",
    "    residual_image = np.zeros_like(i_frame)\n",
    "\n",
    "    # Loop through each block in the frames\n",
    "    for y in range(0, height, block_size):\n",
    "        for x in range(0, width, block_size):\n",
    "            dy, dx = motion_vectors[y // block_size, x // block_size]\n",
    "            target_block = p_frame[y:y+block_size, x:x+block_size]\n",
    "            predicted_block = i_frame[y+dy:y+dy+block_size, x+dx:x+dx+block_size]\n",
    "            \n",
    "            # Calculate the difference between the target and predicted block\n",
    "            residual_image[y:y+block_size, x:x+block_size] = target_block - predicted_block\n",
    "    \n",
    "    return residual_image"
   ]
  },
  {
   "cell_type": "code",
   "execution_count": 109,
   "metadata": {},
   "outputs": [],
   "source": [
    "# List for saves\n",
    "motion_vectors = []\n",
    "residual_frames = []"
   ]
  },
  {
   "cell_type": "code",
   "execution_count": 110,
   "metadata": {},
   "outputs": [],
   "source": [
    "# Find residual for each p frames\n",
    "count = 0\n",
    "while(count<len(video_frames)):\n",
    "    # print(\"step 1 \", count)\n",
    "    residual_frames.append(video_frames[count])\n",
    "    for i in range(10-1):\n",
    "        if (i+count+1==len(video_frames)):\n",
    "            count = len(video_frames)\n",
    "            break\n",
    "        else:\n",
    "            i_frame = video_frames[i+count]\n",
    "            # print(\"step 2 \", count, i+count)\n",
    "            p_frame = video_frames[i+count+1]\n",
    "            \n",
    "            block_size = 8\n",
    "            motion_vec = logarithmic_search(i_frame, p_frame, block_size)\n",
    "            motion_vectors.append(motion_vec)\n",
    "\n",
    "            # Calculate the residual image\n",
    "            residual_frames.append(calculate_residual(i_frame, p_frame, motion_vec, block_size))\n",
    "\n",
    "    count+=10"
   ]
  },
  {
   "cell_type": "markdown",
   "metadata": {},
   "source": [
    "Save the residual images"
   ]
  },
  {
   "cell_type": "code",
   "execution_count": 111,
   "metadata": {},
   "outputs": [],
   "source": [
    "# Save the I and Residual frames\n",
    "count = 0\n",
    "for resi_img in residual_frames:\n",
    "    if int(count%10) == 0:\n",
    "        cv2.imwrite(os.path.join(Residual_Frames_path, \"%d_I_frame.jpg\" % count), resi_img)\n",
    "    else:\n",
    "        cv2.imwrite(os.path.join(Residual_Frames_path, \"%d_residual.jpg\" % count), resi_img)\n",
    "    count+=1"
   ]
  },
  {
   "cell_type": "markdown",
   "metadata": {},
   "source": [
    "# Encoding part"
   ]
  },
  {
   "cell_type": "code",
   "execution_count": 112,
   "metadata": {},
   "outputs": [],
   "source": [
    "# Define Quntization matrix\n",
    "\n",
    "ref_matrix = np.array([[16,  11,  10,  16,  24,  40,  51,  61],\n",
    "                                [12,  12,  14,  19,  26,  58,  60,  55],\n",
    "                                [14,  13,  16,  24,  40,  57,  69,  56],\n",
    "                                [14,  17,  22,  29,  51,  87,  80,  62],\n",
    "                                [18,  22,  37,  56,  68, 109, 103,  77],\n",
    "                                [24,  35,  55,  64,  81, 104, 113,  92],\n",
    "                                [49,  64, 78,  87, 103, 121, 120, 101],\n",
    "                                [72,  92,  95,  98, 112, 100, 103 , 99]])  \n",
    "\n",
    "# Low Quality \n",
    "quantization_matrix_low = np.round(ref_matrix*2).astype(int)\n",
    "\n",
    "# Medium Quality \n",
    "quantization_matrix_medium = ref_matrix \n",
    "\n",
    "# High Quality\n",
    "quantization_matrix_high = np.round(ref_matrix/2).astype(int)\n",
    "\n",
    "YesorNo = int(input(\"Do you want to fit a bitrate (Yes : 1, No : 0): \"))\n",
    "\n",
    "if YesorNo == 1 :\n",
    "    try:\n",
    "        bitrate = int(input(\"Enter the bitrate(kbps) or press enter to set predefined bitrate(683kbps) : \"))*1000\n",
    "    except:\n",
    "        bitrate = 683000 # Get the bitrate value\n",
    "    quality = 1 # Set to default quantization level\n",
    "else:\n",
    "    # Ascked the quality level which want \n",
    "    bitrate = \"Not Specified\"\n",
    "    quality = int(input(\"Select the quality level (low:0, Medium:1, High:2) : \"))\n",
    "\n",
    "# Assign the values for variables according to the input level\n",
    "if quality == 0:\n",
    "    quantization_matrix = quantization_matrix_low \n",
    "    output_file_path = \"encoded_low_quality.txt\"\n",
    "    image_output =  \"Quantized_low_quality.jpg\"\n",
    "    huffman_path = \"Huffman_low_quality.txt\"\n",
    "\n",
    "elif quality == 1:\n",
    "    if YesorNo == 1:\n",
    "        quantization_matrix = quantization_matrix_medium\n",
    "        output_file_path = \"encoded_custon_bitrate%d.txt\"%bitrate\n",
    "        image_output =  \"Quantized_custom_bitrate_%d.jpg\"%bitrate\n",
    "        huffman_path = \"Huffman_medium_quality%d.txt\"%bitrate\n",
    "    else:\n",
    "        quantization_matrix = quantization_matrix_medium\n",
    "        output_file_path = \"encoded_medium_quality.txt\"\n",
    "        image_output =  \"Quantized_medium_quality.jpg\"\n",
    "        huffman_path = \"Huffman_medium_quality.txt\"\n",
    "\n",
    "else:\n",
    "    quantization_matrix = quantization_matrix_high\n",
    "    output_file_path = \"encoded_high_quality.txt\"\n",
    "    image_output =  \"Quantized_high_quality.jpg\"\n",
    "    huffman_path = \"Huffman_high_quality.txt\""
   ]
  },
  {
   "cell_type": "markdown",
   "metadata": {},
   "source": [
    "Functions"
   ]
  },
  {
   "cell_type": "code",
   "execution_count": 113,
   "metadata": {},
   "outputs": [],
   "source": [
    "# Function to devide each frame in to marcoblocks\n",
    "def macroblock(height_blocks, width_blocks, block_size, resize_img):\n",
    "    # Get the macroblocks\n",
    "    # create an empty 4D array to store the 8x8 marcoblocks\n",
    "    macroblocks = np.zeros((height_blocks, width_blocks, block_size, block_size), dtype=np.uint8)\n",
    "\n",
    "    # iterate over the height and width of the image and store the 8x8 blocks in the array\n",
    "    for i in range(height_blocks):\n",
    "        for j in range(width_blocks):\n",
    "            macroblocks[i, j] = resize_img[i*block_size:(i+1)*block_size, j*block_size:(j+1)*block_size]\n",
    "    return macroblocks"
   ]
  },
  {
   "cell_type": "code",
   "execution_count": 114,
   "metadata": {},
   "outputs": [],
   "source": [
    "# Function to apply dicrete cosine transform\n",
    "def dct_macroblocks(macroblocks):\n",
    "    # Create an empty array to store the DCT of each macroblock\n",
    "    dct_macroblocks = np.zeros(macroblocks.shape, dtype=np.float32)\n",
    "\n",
    "    # Apply DCT to each macroblock\n",
    "    for i in range(macroblocks.shape[0]):\n",
    "        for j in range(macroblocks.shape[1]):\n",
    "            dct_macroblocks[i, j] = cv2.dct(macroblocks[i, j].astype(np.float32))\n",
    "\n",
    "    return dct_macroblocks\n"
   ]
  },
  {
   "cell_type": "code",
   "execution_count": 115,
   "metadata": {},
   "outputs": [],
   "source": [
    "# Function for quantize \n",
    "def qunatizer(matix, frame):\n",
    "    # Create architectural metrix to store the results\n",
    "    archi_matrix = np.zeros((frame.shape[0], frame.shape[1], frame.shape[2], frame.shape[3]))\n",
    "    # Quantize each marcoblocks\n",
    "    for i in range(frame.shape[0]):\n",
    "        for j in range(frame.shape[1]):\n",
    "            # Quantize the image by rounding the pixel values to the nearest quantization level\n",
    "            archi_matrix[i, j] = np.round(frame[i, j] / matix)\n",
    "    \n",
    "    return archi_matrix"
   ]
  },
  {
   "cell_type": "code",
   "execution_count": 116,
   "metadata": {},
   "outputs": [],
   "source": [
    "# Function to recreate the 2D image matrix\n",
    "def recreate(quantized_image):\n",
    "    for i in  range((quantized_image.shape[0])):\n",
    "            a = quantized_image[i, 0] \n",
    "            for j in range((quantized_image.shape[1])-1):\n",
    "                    b = quantized_image[i, j+1] \n",
    "                    c = np.concatenate((a,b), axis=1) # Concatanate marcoblocks along rows\n",
    "                    a = c\n",
    "            if i == 0:\n",
    "                    f = c\n",
    "            if i>0:\n",
    "                    Matrix_2D = np.concatenate((f,c), axis=0) # Concatanate marcoblocks along columns\n",
    "                    f = Matrix_2D\n",
    "    return Matrix_2D"
   ]
  },
  {
   "cell_type": "code",
   "execution_count": 117,
   "metadata": {},
   "outputs": [],
   "source": [
    "# Function to find prbability distribution\n",
    "def probability(Matrix_2D):\n",
    "    symbols = {}\n",
    "    for pixel in Matrix_2D.flatten():\n",
    "        if (pixel) in symbols:\n",
    "            symbols[(pixel)] += 1\n",
    "        else:\n",
    "            symbols[(pixel)] = 1\n",
    "\n",
    "    # Calculate probability distribution\n",
    "    total_pixels = Matrix_2D.shape[0]*Matrix_2D.shape[1]\n",
    "    probability_distribution = {}\n",
    "    for item in symbols:\n",
    "        probability_distribution[item] = symbols[item]/total_pixels\n",
    "\n",
    "    # Get the above result as a list\n",
    "    return  [(str(symbol), weight) for symbol, weight in probability_distribution.items()]"
   ]
  },
  {
   "cell_type": "code",
   "execution_count": 118,
   "metadata": {},
   "outputs": [],
   "source": [
    "# Function for compressing the image using huffman\n",
    "def encoder(image, huffman):\n",
    "    img_copy = image\n",
    "    symbol =  huffman ## Halfman values\n",
    "    codeWord = str()\n",
    "    # Quantize the image\n",
    "    for i in range(img_copy.shape[0]):\n",
    "        for j in range(img_copy.shape[1]):\n",
    "            # print(str(img_copy[i, j]))\n",
    "            codeWord += symbol[(img_copy[i, j])]\n",
    "\n",
    "    return  codeWord"
   ]
  },
  {
   "cell_type": "markdown",
   "metadata": {},
   "source": [
    "Call the functions for encode"
   ]
  },
  {
   "cell_type": "code",
   "execution_count": 119,
   "metadata": {},
   "outputs": [],
   "source": [
    "# List to save huffman mappings\n",
    "huffman_codes = []\n",
    "iteration_matrix = []"
   ]
  },
  {
   "cell_type": "code",
   "execution_count": 120,
   "metadata": {},
   "outputs": [],
   "source": [
    "def operator( quantization_matrix, dct_macroblocks):\n",
    "    # Quantized the image\n",
    "    # quantized_image = qunatizer(macroblocks.shape[0], macroblocks.shape[1], quantization_matrix, dct_macroblocks)\n",
    "    quantized_image = qunatizer(quantization_matrix, dct_macroblocks)\n",
    "    Matrix_2D = recreate(quantized_image)\n",
    "    sym_weight_lst = probability(Matrix_2D)\n",
    "\n",
    "    # Create a dictionary for the huffman codebook\n",
    "    huff_map = huffman.codebook(sym_weight_lst)\n",
    "    huff_map = dict([(float(symbol), weight) for symbol, weight in huff_map.items()])\n",
    "\n",
    "    encoded_original = (encoder(Matrix_2D, huff_map))\n",
    "\n",
    "    return encoded_original, huff_map, Matrix_2D"
   ]
  },
  {
   "cell_type": "code",
   "execution_count": 121,
   "metadata": {},
   "outputs": [],
   "source": [
    "H, W = video_frames[0].shape\n",
    "factor = H*W"
   ]
  },
  {
   "cell_type": "code",
   "execution_count": 122,
   "metadata": {},
   "outputs": [
    {
     "name": "stdout",
     "output_type": "stream",
     "text": [
      "682801\n",
      "bitrate lower\n",
      "Next iterate bitrate :  647464 , Q-matrix Multiply value:  1.5\n",
      "Next iterate bitrate :  626487 , Q-matrix Multiply value:  2.0\n",
      "Next iterate bitrate :  612171 , Q-matrix Multiply value:  2.5\n",
      "Next iterate bitrate :  602088 , Q-matrix Multiply value:  3.0\n",
      "Next iterate bitrate :  594086 , Q-matrix Multiply value:  3.5\n",
      "Next iterate bitrate :  587430 , Q-matrix Multiply value:  4.0\n",
      "Next iterate bitrate :  581866 , Q-matrix Multiply value:  4.5\n",
      "Next iterate bitrate :  577405 , Q-matrix Multiply value:  5.0\n",
      "Next iterate bitrate :  573541 , Q-matrix Multiply value:  5.5\n",
      "Next iterate bitrate :  570069 , Q-matrix Multiply value:  6.0\n",
      "Next iterate bitrate :  567205 , Q-matrix Multiply value:  6.5\n",
      "Next iterate bitrate :  564756 , Q-matrix Multiply value:  7.0\n",
      "Next iterate bitrate :  562436 , Q-matrix Multiply value:  7.5\n",
      "Next iterate bitrate :  560332 , Q-matrix Multiply value:  8.0\n",
      "Next iterate bitrate :  558507 , Q-matrix Multiply value:  8.5\n",
      "Next iterate bitrate :  556780 , Q-matrix Multiply value:  9.0\n",
      "Next iterate bitrate :  555179 , Q-matrix Multiply value:  9.5\n",
      "Next iterate bitrate :  553526 , Q-matrix Multiply value:  10.0\n",
      "Next iterate bitrate :  552351 , Q-matrix Multiply value:  10.5\n",
      "Next iterate bitrate :  550972 , Q-matrix Multiply value:  11.0\n",
      "Next iterate bitrate :  549949 , Q-matrix Multiply value:  11.5\n",
      "Finaly, fitted bitrate =  549949 , Multyplier =  11.5\n",
      "CR =  7.485203173385169\n",
      "714252\n",
      "bitrate lower\n",
      "Next iterate bitrate :  664876 , Q-matrix Multiply value:  1.5\n",
      "Next iterate bitrate :  635592 , Q-matrix Multiply value:  2.0\n",
      "Next iterate bitrate :  615213 , Q-matrix Multiply value:  2.5\n",
      "Next iterate bitrate :  600467 , Q-matrix Multiply value:  3.0\n",
      "Next iterate bitrate :  589151 , Q-matrix Multiply value:  3.5\n",
      "Next iterate bitrate :  580434 , Q-matrix Multiply value:  4.0\n",
      "Next iterate bitrate :  573527 , Q-matrix Multiply value:  4.5\n",
      "Next iterate bitrate :  567996 , Q-matrix Multiply value:  5.0\n",
      "Next iterate bitrate :  563204 , Q-matrix Multiply value:  5.5\n",
      "Next iterate bitrate :  558904 , Q-matrix Multiply value:  6.0\n",
      "Next iterate bitrate :  555250 , Q-matrix Multiply value:  6.5\n",
      "Next iterate bitrate :  551865 , Q-matrix Multiply value:  7.0\n",
      "Next iterate bitrate :  548932 , Q-matrix Multiply value:  7.5\n",
      "Finaly, fitted bitrate =  548932 , Multyplier =  7.5\n",
      "CR =  7.499070923174455\n",
      "535807\n",
      "bitrate higher\n",
      "Next iterate bitrate :  547520 , Q-matrix Multiply value:  0.5\n",
      "Next iterate bitrate :  555243 , Q-matrix Multiply value:  0.3333333333333333\n",
      "Finaly, fitted bitrate =  547520 , Multyplier =  0.5\n",
      "CR =  7.518410286382233\n",
      "768541\n",
      "bitrate lower\n",
      "Next iterate bitrate :  705035 , Q-matrix Multiply value:  1.5\n",
      "Next iterate bitrate :  667358 , Q-matrix Multiply value:  2.0\n",
      "Next iterate bitrate :  641359 , Q-matrix Multiply value:  2.5\n",
      "Next iterate bitrate :  622691 , Q-matrix Multiply value:  3.0\n",
      "Next iterate bitrate :  608630 , Q-matrix Multiply value:  3.5\n",
      "Next iterate bitrate :  597690 , Q-matrix Multiply value:  4.0\n",
      "Next iterate bitrate :  588946 , Q-matrix Multiply value:  4.5\n",
      "Next iterate bitrate :  582088 , Q-matrix Multiply value:  5.0\n",
      "Next iterate bitrate :  575822 , Q-matrix Multiply value:  5.5\n",
      "Next iterate bitrate :  570483 , Q-matrix Multiply value:  6.0\n",
      "Next iterate bitrate :  565826 , Q-matrix Multiply value:  6.5\n",
      "Next iterate bitrate :  561580 , Q-matrix Multiply value:  7.0\n",
      "Next iterate bitrate :  557794 , Q-matrix Multiply value:  7.5\n",
      "Next iterate bitrate :  554472 , Q-matrix Multiply value:  8.0\n",
      "Next iterate bitrate :  551432 , Q-matrix Multiply value:  8.5\n",
      "Next iterate bitrate :  548973 , Q-matrix Multiply value:  9.0\n",
      "Finaly, fitted bitrate =  548973 , Multyplier =  9.0\n",
      "CR =  7.4985108557251445\n",
      "583104\n",
      "bitrate lower\n",
      "Next iterate bitrate :  565792 , Q-matrix Multiply value:  1.5\n",
      "Next iterate bitrate :  555705 , Q-matrix Multiply value:  2.0\n",
      "Next iterate bitrate :  548744 , Q-matrix Multiply value:  2.5\n",
      "Finaly, fitted bitrate =  548744 , Multyplier =  2.5\n",
      "CR =  7.501640109049029\n",
      "522970\n",
      "bitrate higher\n",
      "Next iterate bitrate :  527615 , Q-matrix Multiply value:  0.5\n",
      "Next iterate bitrate :  530693 , Q-matrix Multiply value:  0.3333333333333333\n",
      "Next iterate bitrate :  532876 , Q-matrix Multiply value:  0.25\n",
      "Next iterate bitrate :  534691 , Q-matrix Multiply value:  0.2\n",
      "Next iterate bitrate :  536090 , Q-matrix Multiply value:  0.16666666666666666\n",
      "Next iterate bitrate :  537360 , Q-matrix Multiply value:  0.14285714285714285\n",
      "Next iterate bitrate :  538542 , Q-matrix Multiply value:  0.125\n",
      "Next iterate bitrate :  539515 , Q-matrix Multiply value:  0.1111111111111111\n",
      "Next iterate bitrate :  540384 , Q-matrix Multiply value:  0.1\n",
      "Next iterate bitrate :  541261 , Q-matrix Multiply value:  0.09090909090909091\n",
      "Next iterate bitrate :  541990 , Q-matrix Multiply value:  0.08333333333333333\n",
      "Next iterate bitrate :  542761 , Q-matrix Multiply value:  0.07692307692307693\n",
      "Next iterate bitrate :  543414 , Q-matrix Multiply value:  0.07142857142857142\n",
      "Next iterate bitrate :  544037 , Q-matrix Multiply value:  0.06666666666666667\n",
      "Next iterate bitrate :  544619 , Q-matrix Multiply value:  0.0625\n",
      "Next iterate bitrate :  545145 , Q-matrix Multiply value:  0.058823529411764705\n",
      "Next iterate bitrate :  545682 , Q-matrix Multiply value:  0.05555555555555555\n",
      "Next iterate bitrate :  546269 , Q-matrix Multiply value:  0.05263157894736842\n",
      "Next iterate bitrate :  546762 , Q-matrix Multiply value:  0.05\n",
      "Next iterate bitrate :  547156 , Q-matrix Multiply value:  0.047619047619047616\n",
      "Next iterate bitrate :  547622 , Q-matrix Multiply value:  0.045454545454545456\n",
      "Next iterate bitrate :  547980 , Q-matrix Multiply value:  0.043478260869565216\n",
      "Next iterate bitrate :  548365 , Q-matrix Multiply value:  0.041666666666666664\n",
      "Next iterate bitrate :  548779 , Q-matrix Multiply value:  0.04\n",
      "Next iterate bitrate :  549086 , Q-matrix Multiply value:  0.038461538461538464\n",
      "Next iterate bitrate :  549524 , Q-matrix Multiply value:  0.037037037037037035\n",
      "Next iterate bitrate :  549776 , Q-matrix Multiply value:  0.03571428571428571\n",
      "Next iterate bitrate :  550152 , Q-matrix Multiply value:  0.034482758620689655\n",
      "Finaly, fitted bitrate =  549776 , Multyplier =  0.03571428571428571\n",
      "CR =  7.487558569308227\n",
      "833093\n",
      "bitrate lower\n",
      "Next iterate bitrate :  754696 , Q-matrix Multiply value:  1.5\n",
      "Next iterate bitrate :  707549 , Q-matrix Multiply value:  2.0\n",
      "Next iterate bitrate :  675510 , Q-matrix Multiply value:  2.5\n",
      "Next iterate bitrate :  651904 , Q-matrix Multiply value:  3.0\n",
      "Next iterate bitrate :  634277 , Q-matrix Multiply value:  3.5\n",
      "Next iterate bitrate :  620547 , Q-matrix Multiply value:  4.0\n",
      "Next iterate bitrate :  609622 , Q-matrix Multiply value:  4.5\n",
      "Next iterate bitrate :  600669 , Q-matrix Multiply value:  5.0\n",
      "Next iterate bitrate :  593022 , Q-matrix Multiply value:  5.5\n",
      "Next iterate bitrate :  586829 , Q-matrix Multiply value:  6.0\n",
      "Next iterate bitrate :  581204 , Q-matrix Multiply value:  6.5\n",
      "Next iterate bitrate :  575740 , Q-matrix Multiply value:  7.0\n",
      "Next iterate bitrate :  571274 , Q-matrix Multiply value:  7.5\n",
      "Next iterate bitrate :  567163 , Q-matrix Multiply value:  8.0\n",
      "Next iterate bitrate :  563239 , Q-matrix Multiply value:  8.5\n",
      "Next iterate bitrate :  559961 , Q-matrix Multiply value:  9.0\n",
      "Next iterate bitrate :  557253 , Q-matrix Multiply value:  9.5\n",
      "Next iterate bitrate :  554621 , Q-matrix Multiply value:  10.0\n",
      "Next iterate bitrate :  552236 , Q-matrix Multiply value:  10.5\n",
      "Next iterate bitrate :  549811 , Q-matrix Multiply value:  11.0\n",
      "Finaly, fitted bitrate =  549811 , Multyplier =  11.0\n",
      "CR =  7.487081924515879\n",
      "537704\n",
      "bitrate higher\n",
      "Next iterate bitrate :  550815 , Q-matrix Multiply value:  0.5\n",
      "Finaly, fitted bitrate =  537704 , Multyplier =  1.0\n",
      "CR =  7.65566185112999\n",
      "864548\n",
      "bitrate lower\n",
      "Next iterate bitrate :  779585 , Q-matrix Multiply value:  1.5\n",
      "Next iterate bitrate :  729118 , Q-matrix Multiply value:  2.0\n",
      "Next iterate bitrate :  694389 , Q-matrix Multiply value:  2.5\n",
      "Next iterate bitrate :  668915 , Q-matrix Multiply value:  3.0\n",
      "Next iterate bitrate :  649690 , Q-matrix Multiply value:  3.5\n",
      "Next iterate bitrate :  634440 , Q-matrix Multiply value:  4.0\n",
      "Next iterate bitrate :  622717 , Q-matrix Multiply value:  4.5\n",
      "Next iterate bitrate :  612887 , Q-matrix Multiply value:  5.0\n",
      "Next iterate bitrate :  604251 , Q-matrix Multiply value:  5.5\n",
      "Next iterate bitrate :  597243 , Q-matrix Multiply value:  6.0\n",
      "Next iterate bitrate :  591315 , Q-matrix Multiply value:  6.5\n",
      "Next iterate bitrate :  585645 , Q-matrix Multiply value:  7.0\n",
      "Next iterate bitrate :  580431 , Q-matrix Multiply value:  7.5\n",
      "Next iterate bitrate :  575928 , Q-matrix Multiply value:  8.0\n",
      "Next iterate bitrate :  571493 , Q-matrix Multiply value:  8.5\n",
      "Next iterate bitrate :  568020 , Q-matrix Multiply value:  9.0\n",
      "Next iterate bitrate :  564814 , Q-matrix Multiply value:  9.5\n",
      "Next iterate bitrate :  561837 , Q-matrix Multiply value:  10.0\n",
      "Next iterate bitrate :  559364 , Q-matrix Multiply value:  10.5\n",
      "Next iterate bitrate :  556765 , Q-matrix Multiply value:  11.0\n",
      "Next iterate bitrate :  554588 , Q-matrix Multiply value:  11.5\n",
      "Next iterate bitrate :  552589 , Q-matrix Multiply value:  12.0\n",
      "Next iterate bitrate :  550797 , Q-matrix Multiply value:  12.5\n",
      "Next iterate bitrate :  549123 , Q-matrix Multiply value:  13.0\n",
      "Finaly, fitted bitrate =  549123 , Multyplier =  13.0\n",
      "CR =  7.496462541179299\n",
      "538149\n",
      "bitrate higher\n",
      "Next iterate bitrate :  550973 , Q-matrix Multiply value:  0.5\n",
      "Finaly, fitted bitrate =  538149 , Multyplier =  1.0\n",
      "CR =  7.649331319021312\n"
     ]
    }
   ],
   "source": [
    "# Encoding part\n",
    "count = 0\n",
    "for frame in residual_frames:\n",
    "\n",
    "    # Devide each frame into marcoblocks\n",
    "    macroblocks = macroblock(height_blocks, width_blocks, block_size, frame)\n",
    "\n",
    "    # Apply DCT to each macroblock\n",
    "    dct_image = dct_macroblocks(macroblocks)\n",
    "\n",
    "    encoded_original, huff_map, Matrix_2D = operator( quantization_matrix, dct_image)\n",
    "    print(len(encoded_original))\n",
    "    \n",
    "    # Set a variable for future purpose\n",
    "    bot = encoded_original\n",
    "\n",
    "    # Fit to bitrate \n",
    "\n",
    "    # This function is used for fit the image to a specific bitrate.\n",
    "\n",
    "    if YesorNo == 1:\n",
    "        # When speecific bitrate is lower than, after encode using medium quality quantization matrix\n",
    "        if len(bot) > bitrate:\n",
    "            iterate = 1.5\n",
    "            print(\"bitrate lower\")\n",
    "            # Itterate the while loop to fit specified bitrate\n",
    "            while (len(encoded_original)>bitrate):\n",
    "                # store the previous parameters\n",
    "                previous_encode = encoded_original; previous_huff = huff_map; previous_2D = Matrix_2D\n",
    "\n",
    "                encoded_original, huff_map, Matrix_2D = operator( quantization_matrix*iterate, dct_image)\n",
    "\n",
    "                # Find the compression ration\n",
    "                CR_value = (factor*8)/len(encoded_original)\n",
    "\n",
    "                # Check the condition for compression ration\n",
    "                if (CR_value>=9):\n",
    "                    encoded_original = previous_encode; huff_map = previous_huff; Matrix_2D = previous_2D\n",
    "                    print(\"Couldn't fit to your bitrate. Last iterate CR = \", CR_value)\n",
    "                    # print(\"Set to this CR = \", (factor*8)/len(previous_encode))\n",
    "                    # print(\"Set to this bitrate = \", len(previous_encode))\n",
    "                    iterate = iterate + 0.5\n",
    "                    break\n",
    "                \n",
    "                iterate = iterate + 0.5\n",
    "                print(\"Next iterate bitrate : \",len(encoded_original), \", Q-matrix Multiply value: \", (iterate-0.5))\n",
    "\n",
    "            iterate = iterate-0.5\n",
    "                \n",
    "        # When speecific bitrate is higher than, after encode using medium quality quantization matrix\n",
    "        else:\n",
    "            iterate = 2\n",
    "            print(\"bitrate higher\")\n",
    "            # Itterate the while loop to fit specified bitrate\n",
    "            while (len(encoded_original)<bitrate):\n",
    "                # store the previous parameters\n",
    "                gost = encoded_original; gost_huff = huff_map; gost_2D = Matrix_2D\n",
    "\n",
    "                encoded_original, huff_map, Matrix_2D = operator( quantization_matrix/iterate, dct_image)\n",
    "\n",
    "                # Find the compression ration\n",
    "                CR_value = (factor*8)/len(encoded_original)\n",
    "\n",
    "                # Check the condition for compression ration\n",
    "                if (CR_value<=3):\n",
    "                    print(\"Couldn't fit to your bitrate. Last iterate CR = \", CR_value)\n",
    "                    # print(\"Set to this CR = \", (factor*8)/len(gost))\n",
    "                    # print(\"set to this bitrate = \", len(gost))\n",
    "                    iterate = iterate + 1\n",
    "                    break\n",
    "\n",
    "                iterate = iterate + 1\n",
    "                print(\"Next iterate bitrate : \", len(encoded_original), \", Q-matrix Multiply value: \", 1/(iterate-1))\n",
    "\n",
    "            encoded_original = gost; huff_map = gost_huff; Matrix_2D = gost_2D; iterate = 1/(iterate-2)\n",
    "\n",
    "        # Get the quantization matrix multiply factor \n",
    "        iteration_matrix.append(iterate)\n",
    "        print(\"Finaly, fitted bitrate = \", len(encoded_original), \", Multyplier = \", iterate)\n",
    "        print(\"CR = \", (factor*8)/len(encoded_original))\n",
    "    else:\n",
    "        iteration_matrix.append(1)\n",
    "\n",
    "    huffman_codes.append(huff_map)\n",
    "\n",
    "    #Save the encoded data to a text file\n",
    "    file =  open(os.path.join(Encoded_files_path, \"encode_frame_%d.txt\" % count), 'w')\n",
    "\n",
    "    # Encode the each marcoblock separately and save result in the text file\n",
    "    file.write(str(encoded_original))\n",
    "\n",
    "    file.close()\n",
    "    \n",
    "    count+=1\n",
    "    "
   ]
  },
  {
   "cell_type": "markdown",
   "metadata": {},
   "source": [
    "# Decoding part"
   ]
  },
  {
   "cell_type": "code",
   "execution_count": 123,
   "metadata": {},
   "outputs": [],
   "source": [
    "# Function to the decode the compressed haufman coded file\n",
    "def decoder(data, size, txtfile):\n",
    "    codeVal = []\n",
    "    data_new = dict([(value, key) for key, value in data.items()])\n",
    "\n",
    "    code_list = list(data.values())\n",
    "\n",
    "    i = 0\n",
    "    # decode the read file's data\n",
    "    while i != len(txtfile):\n",
    "        # Check with the huffman codes\n",
    "        for j in range(len(code_list)):\n",
    "            a0 = txtfile[i:(i+len(code_list[j]))]\n",
    "            if (a0 == code_list[j]):\n",
    "                codeVal.append(data_new[code_list[j]])\n",
    "                i+=len(code_list[j])\n",
    "                break\n",
    "\n",
    "    \n",
    "    merge_image = np.array(codeVal).reshape(size)\n",
    "    merge_image = merge_image.astype(float)\n",
    "\n",
    "    return merge_image"
   ]
  },
  {
   "cell_type": "code",
   "execution_count": 124,
   "metadata": {},
   "outputs": [],
   "source": [
    "# List to save huffman decoded matrix and decoded frames bitrates\n",
    "huffman_encoded_frames = []\n",
    "decode_bitrate = []"
   ]
  },
  {
   "cell_type": "code",
   "execution_count": 125,
   "metadata": {},
   "outputs": [],
   "source": [
    "# Decode the encoded image\n",
    "for count in range(len(video_frames)):\n",
    "    # Read the saved file line by line\n",
    "    file1 = open(os.path.join(Encoded_files_path, \"encode_frame_%d.txt\"%count), 'r')\n",
    "    Lines = file1.read()\n",
    "    decode_bitrate.append(len(Lines))\n",
    "\n",
    "    if len(Lines)==0:\n",
    "        huffman_encoded_frames.append(np.zeros((video_frames[0].shape)))\n",
    "    else:\n",
    "        # Encode the text file and create the 4D matrix \n",
    "        huffman_encoded_frames.append(decoder(huffman_codes[count], video_frames[0].shape, Lines))\n",
    "                \n",
    "    file1.close()\n",
    "    "
   ]
  },
  {
   "cell_type": "code",
   "execution_count": 126,
   "metadata": {},
   "outputs": [],
   "source": [
    "# Fuunction for Dequantize \n",
    "\n",
    "def dequantized(height_blocks, width_blocks, block_size, frame, quanti_matrix):\n",
    "    # Create a 4D matrix to store dequantized result\n",
    "    decoded_quantized = np.zeros((height_blocks, width_blocks, block_size, block_size))\n",
    "\n",
    "    # Dequantize occur marcoblock by marcoblock\n",
    "    for i in range(frame.shape[0]):\n",
    "            for j in range(frame.shape[1]):\n",
    "                decoded_quantized[i, j] = (frame[i,j] * quanti_matrix)\n",
    "    return decoded_quantized"
   ]
  },
  {
   "cell_type": "code",
   "execution_count": 127,
   "metadata": {},
   "outputs": [],
   "source": [
    "# Function for IDCT\n",
    "def IDCT(frame_macro):\n",
    "    # Create an empty array to store the IDCT of each macroblock\n",
    "    inverse_dct = np.zeros(frame_macro.shape)\n",
    "\n",
    "    # Apply DCT to each macroblock\n",
    "    for i in range(frame_macro.shape[0]):\n",
    "        for j in range(frame_macro.shape[1]):\n",
    "            inverse_dct[i, j] = (cv2.idct(np.float32(frame_macro[i, j])))\n",
    "    \n",
    "    return inverse_dct"
   ]
  },
  {
   "cell_type": "code",
   "execution_count": 128,
   "metadata": {},
   "outputs": [],
   "source": [
    "# List to save reconstructed residuals\n",
    "reconstruct_residuals = []"
   ]
  },
  {
   "cell_type": "code",
   "execution_count": 129,
   "metadata": {},
   "outputs": [],
   "source": [
    "# reconstruct\n",
    "for count in range(len(huffman_encoded_frames)):\n",
    "    # Re construct the marcoblocks\n",
    "\n",
    "    # create an empty 4D array to store the 8x8 marcoblocks\n",
    "    macroblocks_2 = np.zeros((height_blocks, width_blocks, block_size, block_size)).astype(float)\n",
    "\n",
    "    # iterate over the height and width of the image and store the 8x8 blocks in the array\n",
    "    for i in range(height_blocks):\n",
    "        for j in range(width_blocks):\n",
    "            macroblocks_2[i, j] = huffman_encoded_frames[count][i*block_size:(i+1)*block_size, j*block_size:(j+1)*block_size]\n",
    "\n",
    "\n",
    "    I_macroblocks = macroblocks_2\n",
    "    \n",
    "    I_dequantized = dequantized(height_blocks, width_blocks, block_size, I_macroblocks, quantization_matrix*iteration_matrix[count])\n",
    "    \n",
    "    I_idct = IDCT(I_dequantized)\n",
    "\n",
    "    I_receate = recreate(I_idct)\n",
    "\n",
    "    # Clip the pixel values to the valid range (0-255)\n",
    "    I_reconstruct = np.clip(I_receate, 0, 255).astype(np.uint8)\n",
    "    \n",
    "    reconstruct_residuals.append(I_reconstruct)\n"
   ]
  },
  {
   "cell_type": "code",
   "execution_count": 130,
   "metadata": {},
   "outputs": [],
   "source": [
    "# plt.imshow(reconstruct_residuals[0], cmap = 'gray')"
   ]
  },
  {
   "cell_type": "markdown",
   "metadata": {},
   "source": [
    "Predict P frames"
   ]
  },
  {
   "cell_type": "code",
   "execution_count": 131,
   "metadata": {},
   "outputs": [],
   "source": [
    "# Function to predict P-frame\n",
    "def get_residual( residual_image, block_size, height, width, i_frame, motion_vector_array):\n",
    "    predicted_frame = np.zeros_like(residual_image)\n",
    "    # Loop through each block and predict the second frame\n",
    "    for y in range(0, height, block_size):\n",
    "        for x in range(0, width, block_size):\n",
    "            dy, dx = motion_vector_array[y // block_size, x // block_size]\n",
    "            predicted_frame[y:y+block_size, x:x+block_size] = i_frame[y+dy:y+dy+block_size, x+dx:x+dx+block_size] + residual_image[y:y+block_size, x:x+block_size]\n",
    "    \n",
    "    return predicted_frame\n"
   ]
  },
  {
   "cell_type": "code",
   "execution_count": 132,
   "metadata": {},
   "outputs": [],
   "source": [
    "# List save predicted images\n",
    "predicted_frames = []"
   ]
  },
  {
   "cell_type": "code",
   "execution_count": 133,
   "metadata": {},
   "outputs": [],
   "source": [
    "# Predict the second frame using I frame, motion vectors, and residual image\n",
    "height, width = reconstruct_residuals[0].shape[:2]\n",
    "\n",
    "count = 0\n",
    "m_count = 1\n",
    "for frame in reconstruct_residuals:\n",
    "    if (count%10) == 0:\n",
    "        predicted_frames.append(reconstruct_residuals[count])\n",
    "    else:\n",
    "        get = get_residual(reconstruct_residuals[count], block_size, height, width, predicted_frames[count-1], motion_vectors[m_count-1])\n",
    "        predicted_frames.append(get)\n",
    "        m_count+=1\n",
    "        \n",
    "    count+=1\n"
   ]
  },
  {
   "cell_type": "markdown",
   "metadata": {},
   "source": [
    "Function to find PSNR values"
   ]
  },
  {
   "cell_type": "code",
   "execution_count": 134,
   "metadata": {},
   "outputs": [],
   "source": [
    "# Function to find PSNR\n",
    "def PSNR(image1, image2):\n",
    "    mse = np.mean((np.subtract(image1, image2)**2))\n",
    "    max_pixel = 255\n",
    "    psnr = 20 * np.log10(max_pixel) - 10 * np.log10(mse)\n",
    "    return psnr"
   ]
  },
  {
   "cell_type": "code",
   "execution_count": 135,
   "metadata": {},
   "outputs": [],
   "source": [
    "# File path to save PSNR and CR\n",
    "psnr_cr_file = \"PSNR_CR.txt\""
   ]
  },
  {
   "cell_type": "code",
   "execution_count": 136,
   "metadata": {},
   "outputs": [],
   "source": [
    "# Save the predicted frames and find the PSNR values using grascaled original images and decoded images\n",
    "count = 0\n",
    "H, W = video_frames[0].shape\n",
    "\n",
    "file =  open(psnr_cr_file, 'w')\n",
    "try:\n",
    "    word = \"Input Bitrate(kbps) = \"+str(bitrate/1000)+\"\\n\"\n",
    "except:\n",
    "    word = \"Input Bitrate(kbps) = \"+str(bitrate)+\"\\n\"\n",
    "file.write(word)\n",
    "for pred_img in predicted_frames:\n",
    "    if (count%10) == 0:\n",
    "        cv2.imwrite(os.path.join(Decode_frames_path, \"%d_Decode_Predic_I_frame.jpg\" % count), pred_img)\n",
    "    else:\n",
    "        cv2.imwrite(os.path.join(Decode_frames_path, \"%d_Decode_Predict_P_frame.jpg\" % count), pred_img)\n",
    "        \n",
    "    # print(\"PSNR Value of frame %d = \"%count, PSNR(video_frames[count], np.clip(pred_img, 0, 255).astype(np.uint8)), end=' ')\n",
    "    # print(\", CR = \", (H*W*8)/(decode_bitrate[count]))\n",
    "    a = \"PSNR Value of frame %d = \"%count + str(PSNR(video_frames[count], np.clip(pred_img, 0, 255).astype(np.uint8))) + \", CR = \" + str((H*W*8)/(decode_bitrate[count])) +\"\\n\"\n",
    "    file.write(a)\n",
    "    count+=1\n",
    "\n",
    "file.close()"
   ]
  },
  {
   "cell_type": "code",
   "execution_count": 137,
   "metadata": {},
   "outputs": [],
   "source": [
    "# plt.imshow(predicted_frames[9], cmap = 'gray')"
   ]
  },
  {
   "cell_type": "markdown",
   "metadata": {},
   "source": [
    "_________________________________"
   ]
  },
  {
   "cell_type": "markdown",
   "metadata": {},
   "source": [
    "# Recreate the video"
   ]
  },
  {
   "cell_type": "code",
   "execution_count": 138,
   "metadata": {},
   "outputs": [],
   "source": [
    "# Video output file path\n",
    "video_name = 'output_video.mp4'"
   ]
  },
  {
   "cell_type": "code",
   "execution_count": 139,
   "metadata": {},
   "outputs": [],
   "source": [
    "# Step 2: Create a video using the images in the list\n",
    "w, h = predicted_frames[0].shape\n",
    "video = cv2.VideoWriter(video_name, cv2.VideoWriter_fourcc(*'H264'), fps, (h, w))\n",
    "\n",
    "for img in predicted_frames:\n",
    "    \n",
    "    video.write(img)\n",
    "    \n",
    "cv2.destroyAllWindows()\n",
    "video.release()\n"
   ]
  }
 ],
 "metadata": {
  "kernelspec": {
   "display_name": "Python 3",
   "language": "python",
   "name": "python3"
  },
  "language_info": {
   "codemirror_mode": {
    "name": "ipython",
    "version": 3
   },
   "file_extension": ".py",
   "mimetype": "text/x-python",
   "name": "python",
   "nbconvert_exporter": "python",
   "pygments_lexer": "ipython3",
   "version": "3.11.6"
  }
 },
 "nbformat": 4,
 "nbformat_minor": 2
}
