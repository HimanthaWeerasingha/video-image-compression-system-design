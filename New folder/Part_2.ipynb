{
 "cells": [
  {
   "cell_type": "markdown",
   "metadata": {},
   "source": [
    "# EE 596 Mini Project\n",
    "Weerasingha W.K.H.M (E/18/383)"
   ]
  },
  {
   "cell_type": "code",
   "execution_count": 6,
   "metadata": {},
   "outputs": [],
   "source": [
    "# Import the libraries\n",
    "import cv2\n",
    "import numpy as np \n",
    "import matplotlib.pyplot as plt\n",
    "import os\n",
    "import huffman\n",
    "import shutil"
   ]
  },
  {
   "cell_type": "markdown",
   "metadata": {},
   "source": [
    "# Encode the Video"
   ]
  },
  {
   "cell_type": "markdown",
   "metadata": {},
   "source": [
    "Read the video"
   ]
  },
  {
   "cell_type": "code",
   "execution_count": 7,
   "metadata": {},
   "outputs": [],
   "source": [
    "# Organize the directory paths\n",
    "path = os.getcwd()\n",
    "Original_Frames_path = os.path.join(path, \"Original_Frames\")\n",
    "Residual_Frames_path = os.path.join(path, \"Residual_Frames\")\n",
    "Encoded_files_path = os.path.join(path, \"Encoded_files\")\n",
    "Decode_frames_path = os.path.join(path, \"Decode_frames\")"
   ]
  },
  {
   "cell_type": "code",
   "execution_count": 8,
   "metadata": {},
   "outputs": [],
   "source": [
    "# Establish the file paths\n",
    "try:\n",
    "    os.mkdir(Original_Frames_path)\n",
    "    os.mkdir(Residual_Frames_path)\n",
    "    os.mkdir(Encoded_files_path)\n",
    "    os.mkdir(Decode_frames_path)\n",
    "except:\n",
    "    shutil.rmtree(Original_Frames_path)\n",
    "    shutil.rmtree(Residual_Frames_path)\n",
    "    shutil.rmtree(Encoded_files_path)\n",
    "    shutil.rmtree(Decode_frames_path)\n",
    "    os.mkdir(Original_Frames_path)\n",
    "    os.mkdir(Residual_Frames_path)\n",
    "    os.mkdir(Encoded_files_path)\n",
    "    os.mkdir(Decode_frames_path)\n"
   ]
  },
  {
   "cell_type": "code",
   "execution_count": 9,
   "metadata": {},
   "outputs": [],
   "source": [
    "# Store the frames and give limitaion for frame count\n",
    "video_frames = []\n",
    "# frame_Count = 10"
   ]
  },
  {
   "cell_type": "code",
   "execution_count": 10,
   "metadata": {},
   "outputs": [],
   "source": [
    "# Get  frames one by one from the video\n",
    "vidcap = cv2.VideoCapture('Original_Image.mp4')\n",
    "fps = vidcap.get(cv2.CAP_PROP_FPS)\n",
    "success,image = vidcap.read()\n",
    "count = 0\n",
    "while success:\n",
    "# while count<frame_Count:\n",
    "  cv2.imwrite(os.path.join(Original_Frames_path, \"frame%d.jpg\" % count), image)     # save colured frames as JPEG file\n",
    "  video_frames.append(cv2.cvtColor(image, cv2.COLOR_BGR2GRAY)) # Convert to gray image\n",
    "  success,image = vidcap.read()\n",
    "  count += 1"
   ]
  },
  {
   "cell_type": "code",
   "execution_count": 11,
   "metadata": {},
   "outputs": [],
   "source": [
    "# User defined for user purpose\n",
    "frame_Count = count"
   ]
  },
  {
   "cell_type": "code",
   "execution_count": 12,
   "metadata": {},
   "outputs": [
    {
     "name": "stdout",
     "output_type": "stream",
     "text": [
      "Frame counts :  101\n"
     ]
    }
   ],
   "source": [
    "# Print necessary details of frames\n",
    "print(\"Frame counts : \", len(video_frames))"
   ]
  },
  {
   "cell_type": "markdown",
   "metadata": {},
   "source": [
    "Resize the frames to fit 8x8 macroblocks"
   ]
  },
  {
   "cell_type": "code",
   "execution_count": 13,
   "metadata": {},
   "outputs": [],
   "source": [
    "# Get the height and width of the original image\n",
    "height, width = video_frames[0].shape\n",
    "\n",
    "# calculate the counts of the 8x8 macroblocks\n",
    "block_size = 8\n",
    "height_blocks = height // block_size\n",
    "width_blocks = width // block_size\n",
    "\n",
    "# Calculate new image dimensions\n",
    "new_height = height_blocks * 8\n",
    "new_width = width_blocks * 8\n"
   ]
  },
  {
   "cell_type": "code",
   "execution_count": 14,
   "metadata": {},
   "outputs": [],
   "source": [
    "# Updated the frame array using resized frames\n",
    "count = 0\n",
    "for frame in video_frames:\n",
    "    video_frames[count] = cv2.resize(frame, (new_width, new_height))\n",
    "    count+=1"
   ]
  },
  {
   "cell_type": "markdown",
   "metadata": {},
   "source": [
    "# Find residuals"
   ]
  },
  {
   "cell_type": "code",
   "execution_count": 15,
   "metadata": {},
   "outputs": [],
   "source": [
    "# List for saves\n",
    "motion_vectors = []\n",
    "residual_frames = []"
   ]
  },
  {
   "cell_type": "code",
   "execution_count": 16,
   "metadata": {},
   "outputs": [],
   "source": [
    "# Function to calculate the sum of squared differences between two blocks\n",
    "def block_matching_error(block1, block2):\n",
    "    return np.sum((block1 - block2) ** 2)"
   ]
  },
  {
   "cell_type": "code",
   "execution_count": 17,
   "metadata": {},
   "outputs": [],
   "source": [
    "# Function for Logarithmic Search motion estimation\n",
    "def logarithmic_search(i_frame, p_frame, block_size):\n",
    "    height, width = i_frame.shape[:2]\n",
    "    \n",
    "    # Initialize matrix to store motion vectors\n",
    "    motion_vectors = np.zeros((height // block_size, width // block_size, 2), dtype=np.int32)\n",
    "   \n",
    "    # Loop through each block in the target frame\n",
    "    for y in range(0, height, block_size):\n",
    "        for x in range(0, width, block_size):\n",
    "            target_block = p_frame[y:y+block_size, x:x+block_size]\n",
    "            best_match_error = float('inf')\n",
    "            best_match_vector = (0, 0)\n",
    "            \n",
    "            # Iterate through candidate motion vectors in a logarithmic pattern\n",
    "            for dy in [-1, 0, 1]:\n",
    "                for dx in [-1, 0, 1]:\n",
    "                    ny, nx = y + dy, x + dx\n",
    "                    if 0 <= ny < height - block_size + 1 and 0 <= nx < width - block_size + 1:\n",
    "                        reference_block = i_frame[ny:ny+block_size, nx:nx+block_size]\n",
    "                        error = block_matching_error(target_block, reference_block)\n",
    "                        \n",
    "                        # Update if the current candidate is a better match\n",
    "                        if error < best_match_error:\n",
    "                            best_match_error = error\n",
    "                            best_match_vector = (dy, dx)\n",
    "            \n",
    "            # Update the motion vector matrix\n",
    "            motion_vectors[y // block_size, x // block_size] = best_match_vector\n",
    "    \n",
    "    return motion_vectors"
   ]
  },
  {
   "cell_type": "code",
   "execution_count": 18,
   "metadata": {},
   "outputs": [],
   "source": [
    "# Function to calculate the residual image\n",
    "def calculate_residual(i_frame, p_frame, motion_vectors, block_size):\n",
    "    height, width = i_frame.shape[:2]\n",
    "    residual_image = np.zeros_like(i_frame)\n",
    "\n",
    "    # Loop through each block in the frames\n",
    "    for y in range(0, height, block_size):\n",
    "        for x in range(0, width, block_size):\n",
    "            dy, dx = motion_vectors[y // block_size, x // block_size]\n",
    "            target_block = p_frame[y:y+block_size, x:x+block_size]\n",
    "            predicted_block = i_frame[y+dy:y+dy+block_size, x+dx:x+dx+block_size]\n",
    "            \n",
    "            # Calculate the difference between the target and predicted block\n",
    "            residual_image[y:y+block_size, x:x+block_size] = target_block - predicted_block\n",
    "    \n",
    "    return residual_image"
   ]
  },
  {
   "cell_type": "code",
   "execution_count": 19,
   "metadata": {},
   "outputs": [],
   "source": [
    "# Find residual for each p frames\n",
    "count = 0\n",
    "while(count<len(video_frames)):\n",
    "    # print(\"step 1 \", count)\n",
    "    residual_frames.append(video_frames[count])\n",
    "    for i in range(10-1):\n",
    "        if (i+count+1==len(video_frames)):\n",
    "            count = len(video_frames)\n",
    "            break\n",
    "        else:\n",
    "            i_frame = video_frames[i+count]\n",
    "            # print(\"step 2 \", count, i+count)\n",
    "            p_frame = video_frames[i+count+1]\n",
    "            \n",
    "            block_size = 8\n",
    "            motion_vec = logarithmic_search(i_frame, p_frame, block_size)\n",
    "            motion_vectors.append(motion_vec)\n",
    "\n",
    "            # Calculate the residual image\n",
    "            residual_frames.append(calculate_residual(i_frame, p_frame, motion_vec, block_size))\n",
    "\n",
    "    count+=10"
   ]
  },
  {
   "cell_type": "markdown",
   "metadata": {},
   "source": [
    "Save the residual images"
   ]
  },
  {
   "cell_type": "code",
   "execution_count": null,
   "metadata": {},
   "outputs": [],
   "source": [
    "# Save the I and Residual frames\n",
    "count = 0\n",
    "for resi_img in residual_frames:\n",
    "    if int(count%10) == 0:\n",
    "        cv2.imwrite(os.path.join(Residual_Frames_path, \"%d_I_frame.jpg\" % count), resi_img)\n",
    "    else:\n",
    "        cv2.imwrite(os.path.join(Residual_Frames_path, \"%d_residual.jpg\" % count), resi_img)\n",
    "    count+=1"
   ]
  },
  {
   "cell_type": "markdown",
   "metadata": {},
   "source": [
    "# Encoding part"
   ]
  },
  {
   "cell_type": "code",
   "execution_count": null,
   "metadata": {},
   "outputs": [],
   "source": [
    "# Define Quntization matrix\n",
    "\n",
    "ref_matrix = np.array([[16,  11,  10,  16,  24,  40,  51,  61],\n",
    "                                [12,  12,  14,  19,  26,  58,  60,  55],\n",
    "                                [14,  13,  16,  24,  40,  57,  69,  56],\n",
    "                                [14,  17,  22,  29,  51,  87,  80,  62],\n",
    "                                [18,  22,  37,  56,  68, 109, 103,  77],\n",
    "                                [24,  35,  55,  64,  81, 104, 113,  92],\n",
    "                                [49,  64, 78,  87, 103, 121, 120, 101],\n",
    "                                [72,  92,  95,  98, 112, 100, 103 , 99]])  \n",
    "\n",
    "# Low Quality \n",
    "# quantization_matrix_low = np.round(ref_matrix*2).astype(int)\n",
    "quantization_matrix_low = (ref_matrix*4)\n",
    "\n",
    "# Medium Quality \n",
    "quantization_matrix_medium = ref_matrix \n",
    "\n",
    "# High Quality\n",
    "# quantization_matrix_high = np.round(ref_matrix/2).astype(int)\n",
    "quantization_matrix_high = ref_matrix/8\n",
    "\n",
    "# Ascked the quality level which want \n",
    "quality = int(input(\"Select the quality level (low:0, Medium:1, High:2) : \"))\n",
    "\n",
    "# Assign the values for variables according to the input level\n",
    "if quality == 0:\n",
    "    quantization_matrix = quantization_matrix_low \n",
    "    output_file_path = \"encoded_low_quality.txt\"\n",
    "    image_output =  \"Quantized_low_quality.jpg\"\n",
    "elif quality == 1:\n",
    "    quantization_matrix = quantization_matrix_medium\n",
    "    output_file_path = \"encoded_medium_quality.txt\"\n",
    "    image_output =  \"Quantized_medium_quality.jpg\"\n",
    "else:\n",
    "    quantization_matrix = quantization_matrix_high\n",
    "    output_file_path = \"encoded_high_quality.txt\"\n",
    "    image_output =  \"Quantized_high_quality.jpg\""
   ]
  },
  {
   "cell_type": "markdown",
   "metadata": {},
   "source": [
    "Functions"
   ]
  },
  {
   "cell_type": "code",
   "execution_count": null,
   "metadata": {},
   "outputs": [],
   "source": [
    "# Function to devide each frame in to marcoblocks\n",
    "def macroblock(height_blocks, width_blocks, block_size, resize_img):\n",
    "    # Get the macroblocks\n",
    "    # create an empty 4D array to store the 8x8 marcoblocks\n",
    "    macroblocks = np.zeros((height_blocks, width_blocks, block_size, block_size), dtype=np.uint8)\n",
    "\n",
    "    # iterate over the height and width of the image and store the 8x8 blocks in the array\n",
    "    for i in range(height_blocks):\n",
    "        for j in range(width_blocks):\n",
    "            macroblocks[i, j] = resize_img[i*block_size:(i+1)*block_size, j*block_size:(j+1)*block_size]\n",
    "    return macroblocks"
   ]
  },
  {
   "cell_type": "code",
   "execution_count": null,
   "metadata": {},
   "outputs": [],
   "source": [
    "# Function to apply dicrete cosine transform\n",
    "def dct_macroblocks(macroblocks):\n",
    "    # Create an empty array to store the DCT of each macroblock\n",
    "    dct_macroblocks = np.zeros(macroblocks.shape, dtype=np.float32)\n",
    "\n",
    "    # Apply DCT to each macroblock\n",
    "    for i in range(macroblocks.shape[0]):\n",
    "        for j in range(macroblocks.shape[1]):\n",
    "            dct_macroblocks[i, j] = cv2.dct(macroblocks[i, j].astype(np.float32))\n",
    "\n",
    "    return dct_macroblocks\n"
   ]
  },
  {
   "cell_type": "code",
   "execution_count": null,
   "metadata": {},
   "outputs": [],
   "source": [
    "# Function for quantize \n",
    "def qunatizer(matix, frame):\n",
    "    # Create architectural metrix to store the results\n",
    "    archi_matrix = np.zeros((frame.shape[0], frame.shape[1], frame.shape[2], frame.shape[3]))\n",
    "    # Quantize each marcoblocks\n",
    "    for i in range(frame.shape[0]):\n",
    "        for j in range(frame.shape[1]):\n",
    "            # Quantize the image by rounding the pixel values to the nearest quantization level\n",
    "            archi_matrix[i, j] = np.round(frame[i, j] / matix)\n",
    "    \n",
    "    return archi_matrix"
   ]
  },
  {
   "cell_type": "code",
   "execution_count": null,
   "metadata": {},
   "outputs": [],
   "source": [
    "# Function to recreate the 2D image matrix\n",
    "def recreate(quantized_image):\n",
    "    for i in  range((quantized_image.shape[0])):\n",
    "            a = quantized_image[i, 0] \n",
    "            for j in range((quantized_image.shape[1])-1):\n",
    "                    b = quantized_image[i, j+1] \n",
    "                    c = np.concatenate((a,b), axis=1) # Concatanate marcoblocks along rows\n",
    "                    a = c\n",
    "            if i == 0:\n",
    "                    f = c\n",
    "            if i>0:\n",
    "                    Matrix_2D = np.concatenate((f,c), axis=0) # Concatanate marcoblocks along columns\n",
    "                    f = Matrix_2D\n",
    "    return Matrix_2D"
   ]
  },
  {
   "cell_type": "code",
   "execution_count": null,
   "metadata": {},
   "outputs": [],
   "source": [
    "# Function to find prbability distribution\n",
    "def probability(Matrix_2D):\n",
    "    symbols = {}\n",
    "    for pixel in Matrix_2D.flatten():\n",
    "        if (pixel) in symbols:\n",
    "            symbols[(pixel)] += 1\n",
    "        else:\n",
    "            symbols[(pixel)] = 1\n",
    "\n",
    "    # Calculate probability distribution\n",
    "    total_pixels = Matrix_2D.shape[0]*Matrix_2D.shape[1]\n",
    "    probability_distribution = {}\n",
    "    for item in symbols:\n",
    "        probability_distribution[item] = symbols[item]/total_pixels\n",
    "\n",
    "    # Get the above result as a list\n",
    "    return  [(str(symbol), weight) for symbol, weight in probability_distribution.items()]"
   ]
  },
  {
   "cell_type": "code",
   "execution_count": null,
   "metadata": {},
   "outputs": [],
   "source": [
    "# Function for compressing the image using huffman\n",
    "def encoder(image, huffman):\n",
    "    img_copy = image\n",
    "    symbol =  huffman ## Halfman values\n",
    "    codeWord = str()\n",
    "    # Quantize the image\n",
    "    for i in range(img_copy.shape[0]):\n",
    "        for j in range(img_copy.shape[1]):\n",
    "            # print(str(img_copy[i, j]))\n",
    "            codeWord += symbol[(img_copy[i, j])]\n",
    "\n",
    "    return  codeWord"
   ]
  },
  {
   "cell_type": "markdown",
   "metadata": {},
   "source": [
    "Call the functions for encode"
   ]
  },
  {
   "cell_type": "code",
   "execution_count": null,
   "metadata": {},
   "outputs": [],
   "source": [
    "# List to save huffman mappings\n",
    "huffman_codes = []"
   ]
  },
  {
   "cell_type": "code",
   "execution_count": null,
   "metadata": {},
   "outputs": [],
   "source": [
    "# Encoding part\n",
    "count = 0\n",
    "for frame in residual_frames:\n",
    "\n",
    "    # Devide each frame into marcoblocks\n",
    "    macroblocks = macroblock(height_blocks, width_blocks, block_size, frame)\n",
    "\n",
    "    # Apply DCT to each macroblock\n",
    "    dct_image = dct_macroblocks(macroblocks)\n",
    "\n",
    "    # Quantized the image\n",
    "    # quantized_image = qunatizer(macroblocks.shape[0], macroblocks.shape[1], quantization_matrix, dct_image)\n",
    "    quantized_image = qunatizer(quantization_matrix, dct_image)\n",
    "\n",
    "    # Recreate to 2D matrix\n",
    "    Matrix_2D = recreate(quantized_image)\n",
    "\n",
    "    # find prbability distribution\n",
    "    sym_weight_lst = probability(Matrix_2D)\n",
    "\n",
    "    # Create a dictionary for the huffman codebook\n",
    "    huff_map = huffman.codebook(sym_weight_lst)\n",
    "    huff_map = dict([(float(symbol), weight) for symbol, weight in huff_map.items()])\n",
    "    huffman_codes.append(huff_map)\n",
    "\n",
    "    # encoded the original image using haffman codes\n",
    "    encoded_original = (encoder(Matrix_2D, huff_map))\n",
    "\n",
    "    #Save the encoded data to a text file\n",
    "    file =  open(os.path.join(Encoded_files_path, \"encode_frame_%d.txt\" % count), 'w')\n",
    "\n",
    "    # Encode the each marcoblock separately and save result in the text file\n",
    "    file.write(str(encoded_original))\n",
    "\n",
    "    file.close()\n",
    "    \n",
    "    count+=1"
   ]
  },
  {
   "cell_type": "markdown",
   "metadata": {},
   "source": [
    "# Decoding part"
   ]
  },
  {
   "cell_type": "code",
   "execution_count": null,
   "metadata": {},
   "outputs": [],
   "source": [
    "# Function to the decode the compressed haufman coded file\n",
    "def decoder(data, size, txtfile):\n",
    "    codeVal = []\n",
    "    data_new = dict([(value, key) for key, value in data.items()])\n",
    "\n",
    "    code_list = list(data.values())\n",
    "\n",
    "    i = 0\n",
    "    # decode the read file's data\n",
    "    while i != len(txtfile):\n",
    "        # Check with the huffman codes\n",
    "        for j in range(len(code_list)):\n",
    "            a0 = txtfile[i:(i+len(code_list[j]))]\n",
    "            if (a0 == code_list[j]):\n",
    "                codeVal.append(data_new[code_list[j]])\n",
    "                i+=len(code_list[j])\n",
    "                break\n",
    "\n",
    "    \n",
    "    merge_image = np.array(codeVal).reshape(size)\n",
    "    merge_image = merge_image.astype(float)\n",
    "\n",
    "    return merge_image"
   ]
  },
  {
   "cell_type": "code",
   "execution_count": null,
   "metadata": {},
   "outputs": [],
   "source": [
    "# List to save huffman decoded matrix and decoded frames bitrates\n",
    "huffman_encoded_frames = []\n",
    "decode_bitrate = []"
   ]
  },
  {
   "cell_type": "code",
   "execution_count": null,
   "metadata": {},
   "outputs": [],
   "source": [
    "# Decode the encoded image\n",
    "for count in range(len(video_frames)):\n",
    "    # Read the saved file line by line\n",
    "    file1 = open(os.path.join(Encoded_files_path, \"encode_frame_%d.txt\"%count), 'r')\n",
    "    Lines = file1.read()\n",
    "    decode_bitrate.append(len(Lines))\n",
    "    \n",
    "    # Encode the text file and create the 4D matrix \n",
    "    huffman_encoded_frames.append(decoder(huffman_codes[count], video_frames[0].shape, Lines))\n",
    "                \n",
    "    file1.close()"
   ]
  },
  {
   "cell_type": "code",
   "execution_count": null,
   "metadata": {},
   "outputs": [],
   "source": [
    "# Fuunction for Dequantize \n",
    "\n",
    "def dequantized(height_blocks, width_blocks, block_size, frame):\n",
    "    # Create a 4D matrix to store dequantized result\n",
    "    decoded_quantized = np.zeros((height_blocks, width_blocks, block_size, block_size))\n",
    "\n",
    "    # Dequantize occur marcoblock by marcoblock\n",
    "    for i in range(frame.shape[0]):\n",
    "            for j in range(frame.shape[1]):\n",
    "                decoded_quantized[i, j] = (frame[i,j] * quantization_matrix)\n",
    "    return decoded_quantized"
   ]
  },
  {
   "cell_type": "code",
   "execution_count": null,
   "metadata": {},
   "outputs": [],
   "source": [
    "# Function for IDCT\n",
    "def IDCT(frame_macro):\n",
    "    # Create an empty array to store the IDCT of each macroblock\n",
    "    inverse_dct = np.zeros(frame_macro.shape)\n",
    "\n",
    "    # Apply DCT to each macroblock\n",
    "    for i in range(frame_macro.shape[0]):\n",
    "        for j in range(frame_macro.shape[1]):\n",
    "            inverse_dct[i, j] = (cv2.idct(np.float32(frame_macro[i, j])))\n",
    "    \n",
    "    return inverse_dct"
   ]
  },
  {
   "cell_type": "code",
   "execution_count": null,
   "metadata": {},
   "outputs": [],
   "source": [
    "# List to save reconstructed residuals\n",
    "reconstruct_residuals = []"
   ]
  },
  {
   "cell_type": "code",
   "execution_count": null,
   "metadata": {},
   "outputs": [],
   "source": [
    "# reconstruct\n",
    "for count in range(len(huffman_encoded_frames)):\n",
    "    # Re construct the marcoblocks\n",
    "\n",
    "    # create an empty 4D array to store the 8x8 marcoblocks\n",
    "    macroblocks_2 = np.zeros((height_blocks, width_blocks, block_size, block_size)).astype(float)\n",
    "\n",
    "    # iterate over the height and width of the image and store the 8x8 blocks in the array\n",
    "    for i in range(height_blocks):\n",
    "        for j in range(width_blocks):\n",
    "            macroblocks_2[i, j] = huffman_encoded_frames[count][i*block_size:(i+1)*block_size, j*block_size:(j+1)*block_size]\n",
    "\n",
    "\n",
    "    I_macroblocks = macroblocks_2\n",
    "    \n",
    "    I_dequantized = dequantized(height_blocks, width_blocks, block_size, I_macroblocks)\n",
    "    \n",
    "    I_idct = IDCT(I_dequantized)\n",
    "\n",
    "    I_receate = recreate(I_idct)\n",
    "\n",
    "    # Clip the pixel values to the valid range (0-255)\n",
    "    I_reconstruct = np.clip(I_receate, 0, 255).astype(np.uint8)\n",
    "    \n",
    "    reconstruct_residuals.append(I_reconstruct)\n"
   ]
  },
  {
   "cell_type": "code",
   "execution_count": null,
   "metadata": {},
   "outputs": [],
   "source": [
    "# plt.imshow(reconstruct_residuals[0], cmap = 'gray')"
   ]
  },
  {
   "cell_type": "markdown",
   "metadata": {},
   "source": [
    "Predict P frames"
   ]
  },
  {
   "cell_type": "code",
   "execution_count": null,
   "metadata": {},
   "outputs": [],
   "source": [
    "# Function to predict P-frame\n",
    "def get_residual( residual_image, block_size, height, width, i_frame, motion_vector_array):\n",
    "    predicted_frame = np.zeros_like(residual_image)\n",
    "    # Loop through each block and predict the second frame\n",
    "    for y in range(0, height, block_size):\n",
    "        for x in range(0, width, block_size):\n",
    "            dy, dx = motion_vector_array[y // block_size, x // block_size]\n",
    "            predicted_frame[y:y+block_size, x:x+block_size] = i_frame[y+dy:y+dy+block_size, x+dx:x+dx+block_size] + residual_image[y:y+block_size, x:x+block_size]\n",
    "    \n",
    "    return predicted_frame\n"
   ]
  },
  {
   "cell_type": "code",
   "execution_count": null,
   "metadata": {},
   "outputs": [],
   "source": [
    "# List save predicted images\n",
    "predicted_frames = []"
   ]
  },
  {
   "cell_type": "code",
   "execution_count": null,
   "metadata": {},
   "outputs": [],
   "source": [
    "# Predict the second frame using I frame, motion vectors, and residual image\n",
    "height, width = reconstruct_residuals[0].shape[:2]\n",
    "\n",
    "count = 0\n",
    "m_count = 1\n",
    "for frame in reconstruct_residuals:\n",
    "    if (count%10) == 0:\n",
    "        predicted_frames.append(reconstruct_residuals[count])\n",
    "    else:\n",
    "        get = get_residual(reconstruct_residuals[count], block_size, height, width, predicted_frames[count-1], motion_vectors[m_count-1])\n",
    "        predicted_frames.append(get)\n",
    "        m_count+=1\n",
    "        \n",
    "    count+=1\n"
   ]
  },
  {
   "cell_type": "markdown",
   "metadata": {},
   "source": [
    "Function to find PSNR values"
   ]
  },
  {
   "cell_type": "code",
   "execution_count": null,
   "metadata": {},
   "outputs": [],
   "source": [
    "# Function to find PSNR\n",
    "def PSNR(image1, image2):\n",
    "    mse = np.mean((np.subtract(image1, image2)**2))\n",
    "    max_pixel = 255\n",
    "    psnr = 20 * np.log10(max_pixel) - 10 * np.log10(mse)\n",
    "    return psnr"
   ]
  },
  {
   "cell_type": "markdown",
   "metadata": {},
   "source": [
    "Save the decoded images and find the PSNR values"
   ]
  },
  {
   "cell_type": "code",
   "execution_count": null,
   "metadata": {},
   "outputs": [],
   "source": [
    "# File path to save PSNR and CR\n",
    "psnr_cr_file = \"PSNR_CR.txt\""
   ]
  },
  {
   "cell_type": "code",
   "execution_count": null,
   "metadata": {},
   "outputs": [],
   "source": [
    "# Save the predicted frames and find the PSNR values using grascaled original images and decoded images\n",
    "count = 0\n",
    "H, W = video_frames[0].shape\n",
    "\n",
    "file =  open(psnr_cr_file, 'w')\n",
    "\n",
    "for pred_img in predicted_frames:\n",
    "    if (count%10) == 0:\n",
    "        cv2.imwrite(os.path.join(Decode_frames_path, \"%d_Decode_Predic_I_frame.jpg\" % count), pred_img)\n",
    "    else:\n",
    "        cv2.imwrite(os.path.join(Decode_frames_path, \"%d_Decode_Predict_P_frame.jpg\" % count), pred_img)\n",
    "        \n",
    "    # print(\"PSNR Value of frame %d = \"%count, PSNR(video_frames[count], np.clip(pred_img, 0, 255).astype(np.uint8)), end=' ')\n",
    "    # print(\", CR = \", (H*W*8)/(decode_bitrate[count]))\n",
    "    # a = \"PSNR Value of frame %d = \"%count + str(PSNR(video_frames[count], np.clip(pred_img, 0, 255).astype(np.uint8))) + \", CR = \" + str((H*W*8)/(decode_bitrate[count])) +\"\\n\"\n",
    "    a = \"PSNR Value of frame %d = \"%count + str(PSNR(video_frames[count], np.clip(pred_img, 0, 255).astype(np.uint8))) + \"\\n\"\n",
    "    file.write(a)\n",
    "    count+=1\n",
    "\n",
    "file.close()"
   ]
  },
  {
   "cell_type": "code",
   "execution_count": null,
   "metadata": {},
   "outputs": [],
   "source": [
    "# plt.imshow(predicted_frames[9], cmap = 'gray')"
   ]
  },
  {
   "cell_type": "markdown",
   "metadata": {},
   "source": [
    "_________________________________"
   ]
  },
  {
   "cell_type": "markdown",
   "metadata": {},
   "source": [
    "# Recreate the video"
   ]
  },
  {
   "cell_type": "code",
   "execution_count": null,
   "metadata": {},
   "outputs": [],
   "source": [
    "# Video output file path\n",
    "video_name = 'output_video.mp4'"
   ]
  },
  {
   "cell_type": "code",
   "execution_count": null,
   "metadata": {},
   "outputs": [],
   "source": [
    "# Create a video using the images in the list\n",
    "w, h = predicted_frames[0].shape\n",
    "video = cv2.VideoWriter(video_name, cv2.VideoWriter_fourcc(*'H264'), fps, (h, w))\n",
    "\n",
    "for img in predicted_frames:\n",
    "    video.write(img)\n",
    "    \n",
    "cv2.destroyAllWindows()\n",
    "video.release()\n"
   ]
  }
 ],
 "metadata": {
  "kernelspec": {
   "display_name": "Python 3",
   "language": "python",
   "name": "python3"
  },
  "language_info": {
   "codemirror_mode": {
    "name": "ipython",
    "version": 3
   },
   "file_extension": ".py",
   "mimetype": "text/x-python",
   "name": "python",
   "nbconvert_exporter": "python",
   "pygments_lexer": "ipython3",
   "version": "3.11.6"
  }
 },
 "nbformat": 4,
 "nbformat_minor": 2
}
